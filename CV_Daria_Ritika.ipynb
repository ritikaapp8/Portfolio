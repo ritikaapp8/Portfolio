{
  "cells": [
    {
      "cell_type": "markdown",
      "metadata": {
        "id": "view-in-github",
        "colab_type": "text"
      },
      "source": [
        "<a href=\"https://colab.research.google.com/github/ritikaapp8/Portfolio/blob/master/CV_Daria_Ritika.ipynb\" target=\"_parent\"><img src=\"https://colab.research.google.com/assets/colab-badge.svg\" alt=\"Open In Colab\"/></a>"
      ]
    },
    {
      "cell_type": "code",
      "execution_count": null,
      "id": "990c2d22",
      "metadata": {
        "id": "990c2d22"
      },
      "outputs": [],
      "source": [
        "#Files\n",
        "import tensorflow as tf"
      ]
    },
    {
      "cell_type": "code",
      "source": [
        "!nvidia-smi"
      ],
      "metadata": {
        "colab": {
          "base_uri": "https://localhost:8080/"
        },
        "id": "3J4FGrzrQqUU",
        "outputId": "5330afab-c0af-4846-9ebb-9e4ece6c1cc7"
      },
      "id": "3J4FGrzrQqUU",
      "execution_count": null,
      "outputs": [
        {
          "output_type": "stream",
          "name": "stdout",
          "text": [
            "Sat Feb 25 00:25:16 2023       \n",
            "+-----------------------------------------------------------------------------+\n",
            "| NVIDIA-SMI 525.85.12    Driver Version: 525.85.12    CUDA Version: 12.0     |\n",
            "|-------------------------------+----------------------+----------------------+\n",
            "| GPU  Name        Persistence-M| Bus-Id        Disp.A | Volatile Uncorr. ECC |\n",
            "| Fan  Temp  Perf  Pwr:Usage/Cap|         Memory-Usage | GPU-Util  Compute M. |\n",
            "|                               |                      |               MIG M. |\n",
            "|===============================+======================+======================|\n",
            "|   0  Tesla T4            Off  | 00000000:00:04.0 Off |                    0 |\n",
            "| N/A   43C    P0    26W /  70W |      0MiB / 15360MiB |      0%      Default |\n",
            "|                               |                      |                  N/A |\n",
            "+-------------------------------+----------------------+----------------------+\n",
            "                                                                               \n",
            "+-----------------------------------------------------------------------------+\n",
            "| Processes:                                                                  |\n",
            "|  GPU   GI   CI        PID   Type   Process name                  GPU Memory |\n",
            "|        ID   ID                                                   Usage      |\n",
            "|=============================================================================|\n",
            "|  No running processes found                                                 |\n",
            "+-----------------------------------------------------------------------------+\n"
          ]
        }
      ]
    },
    {
      "cell_type": "code",
      "execution_count": null,
      "id": "8f84ccd4",
      "metadata": {
        "id": "8f84ccd4"
      },
      "outputs": [],
      "source": [
        "import numpy as np\n",
        "def pad_sequences(sequences, maxlen=None, dtype=np.float32,\n",
        "                  padding='post', truncating='post', value=0.):\n",
        "    '''Pads each sequence to the same length: the length of the longest\n",
        "    sequence.\n",
        "        If maxlen is provided, any sequence longer than maxlen is truncated to\n",
        "        maxlen. Truncation happens off either the beginning or the end\n",
        "        (default) of the sequence. Supports post-padding (default) and\n",
        "        pre-padding.\n",
        "        Args:\n",
        "            sequences: list of lists where each element is a sequence\n",
        "            maxlen: int, maximum length\n",
        "            dtype: type to cast the resulting sequence.\n",
        "            padding: 'pre' or 'post', pad either before or after each sequence.\n",
        "            truncating: 'pre' or 'post', remove values from sequences larger\n",
        "            than maxlen either in the beginning or in the end of the sequence\n",
        "            value: float, value to pad the sequences to the desired value.\n",
        "        Returns\n",
        "            x: numpy array with dimensions (number_of_sequences, maxlen)\n",
        "            lengths: numpy array with the original sequence lengths\n",
        "    '''\n",
        "    lengths = np.asarray([len(s) for s in sequences], dtype=np.int64)\n",
        "    lengths = list(lengths)\n",
        "\n",
        "    nb_samples = len(sequences)\n",
        "    if maxlen is None:\n",
        "        maxlen = np.max(lengths)\n",
        "\n",
        "    # take the sample shape from the first non empty sequence\n",
        "    # checking for consistency in the main loop below.\n",
        "    sample_shape = tuple()\n",
        "    for s in sequences:\n",
        "        if len(s) > 0:\n",
        "            sample_shape = np.asarray(s).shape[1:]\n",
        "            break\n",
        "\n",
        "    x = (np.ones((nb_samples, maxlen) + sample_shape) * value).astype(dtype)\n",
        "    for idx, s in enumerate(sequences):\n",
        "        if len(s) == 0:\n",
        "            continue  # empty list was found\n",
        "        if truncating == 'pre':\n",
        "            trunc = s[-maxlen:]\n",
        "        elif truncating == 'post':\n",
        "            trunc = s[:maxlen]\n",
        "        else:\n",
        "            raise ValueError('Truncating type \"%s\" not understood' % truncating)\n",
        "\n",
        "        # check `trunc` has expected shape\n",
        "        trunc = np.asarray(trunc, dtype=dtype)\n",
        "        if trunc.shape[1:] != sample_shape:\n",
        "            raise ValueError('Shape of sample %s of sequence at position %s is different from expected shape %s' %\n",
        "                             (trunc.shape[1:], idx, sample_shape))\n",
        "\n",
        "        if padding == 'post':\n",
        "            x[idx, :len(trunc)] = trunc\n",
        "        elif padding == 'pre':\n",
        "            x[idx, -len(trunc):] = trunc\n",
        "        else:\n",
        "            raise ValueError('Padding type \"%s\" not understood' % padding)\n",
        "    return x, np.asarray(lengths)\n",
        "#import tensorflow as tf\n",
        "#from tensorflow import keras\n",
        "#from tensorflow.keras import layers\n",
        "#import numpy as np\n",
        "#from tensorflow.python.client import device_lib\n",
        "#print(device_lib.list_local_devices())\n",
        "#from keras import backend as K\n",
        "seed_value= 0\n",
        "import os\n",
        "os.environ['PYTHONHASHSEED']=str(seed_value)\n",
        "import random\n",
        "random.seed(seed_value)\n",
        "import numpy as np\n",
        "np.random.seed(seed_value)\n",
        "#import tensorflow as tf\n",
        "#tf.random.set_seed(seed_value)\n",
        "#gpu_options = tf.compat.v1.GPUOptions(per_process_gpu_memory_fraction=0.9)\n",
        "#config=tf.compat.v1.ConfigProto(gpu_options=gpu_options)\n",
        "#sess = tf.compat.v1.Session(config=tf.compat.v1.ConfigProto(gpu_options=gpu_options))\n",
        "#tf.compat.v1.keras.backend.set_session(sess)\n",
        "import glob\n",
        "import pandas as pd\n",
        "#from keras.models import Sequential, Input, Model\n",
        "#from keras.layers import Dense,Bidirectional\n",
        "#from keras.layers import LSTM, GRU\n",
        "#from keras.layers import Dropout, TimeDistributed, AveragePooling1D, Conv1D, MaxPooling1D, UpSampling1D,LayerNormalization,BatchNormalization\n",
        "#from keras import optimizers\n",
        "#from tcn import TCN\n",
        "#from keras.layers import TimeDistributed,Bidirectional\n",
        "#from keras.callbacks import ModelCheckpoint\n",
        "from sklearn.model_selection import train_test_split"
      ]
    },
    {
      "cell_type": "code",
      "source": [
        "#!pip3 install colab"
      ],
      "metadata": {
        "id": "1HEcdXzCH6hy"
      },
      "id": "1HEcdXzCH6hy",
      "execution_count": null,
      "outputs": []
    },
    {
      "cell_type": "code",
      "source": [
        "from google.colab import drive"
      ],
      "metadata": {
        "id": "pYs7SYn4HSwZ"
      },
      "id": "pYs7SYn4HSwZ",
      "execution_count": null,
      "outputs": []
    },
    {
      "cell_type": "code",
      "source": [
        "drive.mount('/content/drive')"
      ],
      "metadata": {
        "colab": {
          "base_uri": "https://localhost:8080/"
        },
        "id": "Qm-vKce3Iz8-",
        "outputId": "de3cd60d-af89-47f5-ab25-b77b1b2ed5b1"
      },
      "id": "Qm-vKce3Iz8-",
      "execution_count": null,
      "outputs": [
        {
          "output_type": "stream",
          "name": "stdout",
          "text": [
            "Mounted at /content/drive\n"
          ]
        }
      ]
    },
    {
      "cell_type": "code",
      "source": [
        "!ls \"/content/drive/My Drive\""
      ],
      "metadata": {
        "colab": {
          "base_uri": "https://localhost:8080/"
        },
        "id": "PGZXyehQI__D",
        "outputId": "6f9ec275-536b-46e1-f4c3-785fe6865101"
      },
      "id": "PGZXyehQI__D",
      "execution_count": null,
      "outputs": [
        {
          "output_type": "stream",
          "name": "stdout",
          "text": [
            "'code analysis'  'Colab Notebooks'   normal   stroke\n"
          ]
        }
      ]
    },
    {
      "cell_type": "code",
      "source": [
        "#!pip3 install keras-tcn"
      ],
      "metadata": {
        "id": "hbMH2Ztm5BiT"
      },
      "id": "hbMH2Ztm5BiT",
      "execution_count": null,
      "outputs": []
    },
    {
      "cell_type": "code",
      "source": [
        "#!pip3 install --user keras-tcn"
      ],
      "metadata": {
        "id": "D_cqkVnJ46DM"
      },
      "id": "D_cqkVnJ46DM",
      "execution_count": null,
      "outputs": []
    },
    {
      "cell_type": "code",
      "execution_count": null,
      "id": "296425b1",
      "metadata": {
        "id": "296425b1"
      },
      "outputs": [],
      "source": [
        "#!pip3 install --user opencv-python"
      ]
    },
    {
      "cell_type": "code",
      "execution_count": null,
      "id": "fb222e8d",
      "metadata": {
        "id": "fb222e8d"
      },
      "outputs": [],
      "source": [
        "#Drive\n",
        "normal=[]\n",
        "root='/content/drive/My Drive/normal'\n",
        "for path, subdirs, files in os.walk(root):\n",
        "    for name in files:\n",
        "        normal.append(os.path.join(path, name))"
      ]
    },
    {
      "cell_type": "code",
      "execution_count": null,
      "id": "669fe12f",
      "metadata": {
        "colab": {
          "base_uri": "https://localhost:8080/"
        },
        "id": "669fe12f",
        "outputId": "d3262a6e-3b5b-45d3-97b9-bf900b5d5aa0"
      },
      "outputs": [
        {
          "output_type": "stream",
          "name": "stdout",
          "text": [
            "1000\n"
          ]
        }
      ],
      "source": [
        "#The amount of normal pics\n",
        "print(len(normal))"
      ]
    },
    {
      "cell_type": "code",
      "source": [
        "#normal"
      ],
      "metadata": {
        "id": "9LqbqvgbkzGi"
      },
      "id": "9LqbqvgbkzGi",
      "execution_count": null,
      "outputs": []
    },
    {
      "cell_type": "code",
      "execution_count": null,
      "id": "02508277",
      "metadata": {
        "id": "02508277"
      },
      "outputs": [],
      "source": [
        "#Path for stroke pics\n",
        "stroke=[]\n",
        "root='/content/drive/My Drive/stroke'\n",
        "for path, subdirs, files in os.walk(root):\n",
        "    for name in files:\n",
        "        stroke.append(os.path.join(path, name))"
      ]
    },
    {
      "cell_type": "code",
      "execution_count": null,
      "id": "d25922a0",
      "metadata": {
        "colab": {
          "base_uri": "https://localhost:8080/"
        },
        "id": "d25922a0",
        "outputId": "727105fd-0395-400a-fa3c-9382815ee731"
      },
      "outputs": [
        {
          "output_type": "stream",
          "name": "stdout",
          "text": [
            "507\n"
          ]
        }
      ],
      "source": [
        "#amount of stroke pics\n",
        "print(len(stroke))"
      ]
    },
    {
      "cell_type": "code",
      "source": [
        "#stroke"
      ],
      "metadata": {
        "id": "zEUjFOKHlBn7"
      },
      "id": "zEUjFOKHlBn7",
      "execution_count": null,
      "outputs": []
    },
    {
      "cell_type": "code",
      "execution_count": null,
      "id": "4ec81d89",
      "metadata": {
        "id": "4ec81d89"
      },
      "outputs": [],
      "source": [
        "from PIL import Image\n",
        "from numpy import asarray"
      ]
    },
    {
      "cell_type": "code",
      "execution_count": null,
      "id": "41ddf471",
      "metadata": {
        "id": "41ddf471"
      },
      "outputs": [],
      "source": [
        "#Since you can't directly feed images to your model, you need to convert them into an array\n",
        "stroke_array=[]\n",
        "normal_array=[]\n",
        "for i in range(len(stroke)):\n",
        "    img = Image.open(stroke[i])\n",
        "    stroke_array.append(asarray(img))\n",
        "for i in range(len(normal)):\n",
        "    img = Image.open(normal[i])\n",
        "    normal_array.append(asarray(img))"
      ]
    },
    {
      "cell_type": "code",
      "execution_count": null,
      "id": "e559de6d",
      "metadata": {
        "id": "e559de6d"
      },
      "outputs": [],
      "source": [
        "print(len(stroke_array))\n",
        "print(len(normal_array))"
      ]
    },
    {
      "cell_type": "code",
      "source": [
        "#Shapes for stroke weren't the same, while all the normal were\n",
        "stroke_array[0].shape"
      ],
      "metadata": {
        "colab": {
          "base_uri": "https://localhost:8080/"
        },
        "id": "cftmvrPPon4k",
        "outputId": "bb29b1fa-cd3f-452f-f98d-02751467a738"
      },
      "id": "cftmvrPPon4k",
      "execution_count": null,
      "outputs": [
        {
          "output_type": "execute_result",
          "data": {
            "text/plain": [
              "(300, 221, 3)"
            ]
          },
          "metadata": {},
          "execution_count": 21
        }
      ]
    },
    {
      "cell_type": "code",
      "source": [
        "stroke_array[0].shape[0]"
      ],
      "metadata": {
        "colab": {
          "base_uri": "https://localhost:8080/"
        },
        "id": "rT7Y9Xfwq743",
        "outputId": "d4970509-a33c-4afa-b996-6357d00bb5d7"
      },
      "id": "rT7Y9Xfwq743",
      "execution_count": null,
      "outputs": [
        {
          "output_type": "execute_result",
          "data": {
            "text/plain": [
              "300"
            ]
          },
          "metadata": {},
          "execution_count": 22
        }
      ]
    },
    {
      "cell_type": "code",
      "source": [
        "stroke_array[0].shape[1]"
      ],
      "metadata": {
        "colab": {
          "base_uri": "https://localhost:8080/"
        },
        "id": "_Cp73G5pq_Ag",
        "outputId": "10cd84a1-271f-42f5-b21d-ca3b71fe0679"
      },
      "id": "_Cp73G5pq_Ag",
      "execution_count": null,
      "outputs": [
        {
          "output_type": "execute_result",
          "data": {
            "text/plain": [
              "221"
            ]
          },
          "metadata": {},
          "execution_count": 23
        }
      ]
    },
    {
      "cell_type": "code",
      "source": [
        "stroke_array[9].shape"
      ],
      "metadata": {
        "colab": {
          "base_uri": "https://localhost:8080/"
        },
        "id": "BR6jhdy2pzx0",
        "outputId": "7c6bce92-dbce-468a-9436-814db0478788"
      },
      "id": "BR6jhdy2pzx0",
      "execution_count": null,
      "outputs": [
        {
          "output_type": "execute_result",
          "data": {
            "text/plain": [
              "(210, 150, 3)"
            ]
          },
          "metadata": {},
          "execution_count": 24
        }
      ]
    },
    {
      "cell_type": "code",
      "execution_count": null,
      "id": "b80692c6",
      "metadata": {
        "colab": {
          "base_uri": "https://localhost:8080/"
        },
        "id": "b80692c6",
        "outputId": "b8cec253-8021-4501-def8-61ba0e04e933"
      },
      "outputs": [
        {
          "output_type": "execute_result",
          "data": {
            "text/plain": [
              "(122, 91, 4)"
            ]
          },
          "metadata": {},
          "execution_count": 25
        }
      ],
      "source": [
        "stroke_array[100].shape"
      ]
    },
    {
      "cell_type": "code",
      "execution_count": null,
      "id": "867a33e1",
      "metadata": {
        "colab": {
          "base_uri": "https://localhost:8080/"
        },
        "id": "867a33e1",
        "outputId": "7ec49039-8735-43ed-e95d-9374fad3af32"
      },
      "outputs": [
        {
          "output_type": "execute_result",
          "data": {
            "text/plain": [
              "(256, 256, 3)"
            ]
          },
          "metadata": {},
          "execution_count": 26
        }
      ],
      "source": [
        "normal_array[49].shape"
      ]
    },
    {
      "cell_type": "code",
      "execution_count": null,
      "id": "bec8bfa5",
      "metadata": {
        "id": "bec8bfa5"
      },
      "outputs": [],
      "source": [
        "#Wanted to find the distribution of x and y\n",
        "#So shape of zero(x) will go to S1 list, while all shape of one(y) will go to S2 list\n",
        "s1=[]\n",
        "s2=[]\n",
        "for i in range(len(stroke_array)):\n",
        "    s1.append(stroke_array[i].shape[0])\n",
        "    s2.append(stroke_array[i].shape[1])"
      ]
    },
    {
      "cell_type": "code",
      "execution_count": null,
      "id": "fe13f1da",
      "metadata": {
        "colab": {
          "base_uri": "https://localhost:8080/"
        },
        "id": "fe13f1da",
        "outputId": "b066348a-c662-4cff-eba1-35cfb11f373e"
      },
      "outputs": [
        {
          "output_type": "execute_result",
          "data": {
            "text/plain": [
              "894"
            ]
          },
          "metadata": {},
          "execution_count": 28
        }
      ],
      "source": [
        "max(s1)\n",
        "#trail and error for finding correct padding? -- maybe"
      ]
    },
    {
      "cell_type": "code",
      "execution_count": null,
      "id": "bb83fc37",
      "metadata": {
        "colab": {
          "base_uri": "https://localhost:8080/"
        },
        "id": "bb83fc37",
        "outputId": "b25300eb-1253-42c1-92ac-dc574a37074b"
      },
      "outputs": [
        {
          "output_type": "execute_result",
          "data": {
            "text/plain": [
              "752"
            ]
          },
          "metadata": {},
          "execution_count": 29
        }
      ],
      "source": [
        "max(s2)"
      ]
    },
    {
      "cell_type": "code",
      "execution_count": null,
      "id": "c806fc6c",
      "metadata": {
        "colab": {
          "base_uri": "https://localhost:8080/"
        },
        "id": "c806fc6c",
        "outputId": "60b79d96-973c-4327-ef29-1d0d7a280ffc"
      },
      "outputs": [
        {
          "output_type": "execute_result",
          "data": {
            "text/plain": [
              "66"
            ]
          },
          "metadata": {},
          "execution_count": 30
        }
      ],
      "source": [
        "min(s1)"
      ]
    },
    {
      "cell_type": "code",
      "execution_count": null,
      "id": "c13789a8",
      "metadata": {
        "colab": {
          "base_uri": "https://localhost:8080/"
        },
        "id": "c13789a8",
        "outputId": "36584cd7-51c1-4de3-b147-840e4df4f7e4"
      },
      "outputs": [
        {
          "output_type": "execute_result",
          "data": {
            "text/plain": [
              "58"
            ]
          },
          "metadata": {},
          "execution_count": 31
        }
      ],
      "source": [
        "min(s2)"
      ]
    },
    {
      "cell_type": "code",
      "execution_count": null,
      "id": "b2bad47f",
      "metadata": {
        "id": "b2bad47f"
      },
      "outputs": [],
      "source": [
        "from statistics import mean"
      ]
    },
    {
      "cell_type": "code",
      "execution_count": null,
      "id": "cb8641eb",
      "metadata": {
        "colab": {
          "base_uri": "https://localhost:8080/"
        },
        "id": "cb8641eb",
        "outputId": "5dd3ac14-5bbd-4c55-9e82-090407991f75"
      },
      "outputs": [
        {
          "output_type": "execute_result",
          "data": {
            "text/plain": [
              "213.4181459566075"
            ]
          },
          "metadata": {},
          "execution_count": 17
        }
      ],
      "source": [
        "#Mean of x\n",
        "mean(s1)"
      ]
    },
    {
      "cell_type": "code",
      "execution_count": null,
      "id": "ddd9cfb8",
      "metadata": {
        "colab": {
          "base_uri": "https://localhost:8080/"
        },
        "id": "ddd9cfb8",
        "outputId": "35c05d31-b0f1-44f5-a9c2-701f5e597bf8"
      },
      "outputs": [
        {
          "output_type": "execute_result",
          "data": {
            "text/plain": [
              "203.42998027613413"
            ]
          },
          "metadata": {},
          "execution_count": 18
        }
      ],
      "source": [
        "#Mean of y\n",
        "mean(s2)"
      ]
    },
    {
      "cell_type": "code",
      "execution_count": null,
      "id": "56488c58",
      "metadata": {
        "colab": {
          "base_uri": "https://localhost:8080/"
        },
        "id": "56488c58",
        "outputId": "366bf1fe-e140-4c05-eeb9-68cf68ad3227"
      },
      "outputs": [
        {
          "output_type": "execute_result",
          "data": {
            "text/plain": [
              "300"
            ]
          },
          "metadata": {},
          "execution_count": 19
        }
      ],
      "source": [
        "s1[0]"
      ]
    },
    {
      "cell_type": "code",
      "execution_count": null,
      "id": "4b44a149",
      "metadata": {
        "id": "4b44a149"
      },
      "outputs": [],
      "source": [
        "#Since ave. of normal was 256, we decided to pad the x and y to be 256\n",
        "#mean of s1 and s2 around 200 and s1[0] is 300 so want smthg in between. normal avergage is 256, so used that for everything\n",
        "stroke_array_final=[]\n",
        "for i in range(len(stroke_array)):\n",
        "    l1=256-s1[i]\n",
        "    l2=256-s2[i]\n",
        "    if l1 <0:\n",
        "        temp=stroke_array[i][0:256,:,:]\n",
        "        l1=0\n",
        "    if l2<0:\n",
        "        temp=stroke_array[i][:,0:256,:]\n",
        "        l2=0\n",
        "    else:\n",
        "        temp=stroke_array[i]\n",
        "    stroke_array_final.append(np.pad(temp, pad_width=[(0, l1),(0, l2),(0, 0)], mode='constant'))"
      ]
    },
    {
      "cell_type": "code",
      "execution_count": null,
      "id": "4262b89e",
      "metadata": {
        "colab": {
          "base_uri": "https://localhost:8080/"
        },
        "id": "4262b89e",
        "outputId": "4b482689-ae39-4426-fffd-da94e717321f"
      },
      "outputs": [
        {
          "output_type": "execute_result",
          "data": {
            "text/plain": [
              "(256, 256, 4)"
            ]
          },
          "metadata": {},
          "execution_count": 21
        }
      ],
      "source": [
        "#Found out that some had not RGB, the last dimension was not 3\n",
        "stroke_array_final[100].shape"
      ]
    },
    {
      "cell_type": "code",
      "execution_count": null,
      "id": "90bf382b",
      "metadata": {
        "colab": {
          "base_uri": "https://localhost:8080/"
        },
        "id": "90bf382b",
        "outputId": "b98b3943-6593-4431-c317-058768dcd6cd"
      },
      "outputs": [
        {
          "output_type": "execute_result",
          "data": {
            "text/plain": [
              "(300, 256, 3)"
            ]
          },
          "metadata": {},
          "execution_count": 22
        }
      ],
      "source": [
        "stroke_array_final[80].shape"
      ]
    },
    {
      "cell_type": "code",
      "execution_count": null,
      "id": "0b46a4ff",
      "metadata": {
        "colab": {
          "base_uri": "https://localhost:8080/"
        },
        "id": "0b46a4ff",
        "outputId": "e581eb08-6551-4be7-fe07-da312ca961f6"
      },
      "outputs": [
        {
          "output_type": "execute_result",
          "data": {
            "text/plain": [
              "(300, 168, 3)"
            ]
          },
          "metadata": {},
          "execution_count": 23
        }
      ],
      "source": [
        "stroke_array[80].shape"
      ]
    },
    {
      "cell_type": "code",
      "execution_count": null,
      "id": "7b1776fb",
      "metadata": {
        "id": "7b1776fb"
      },
      "outputs": [],
      "source": [
        "stroke_array_final_new=[]\n",
        "for i in range(len(stroke_array_final)):\n",
        "    stroke_array_final_new.append(stroke_array_final[i][0:256,:,:])"
      ]
    },
    {
      "cell_type": "code",
      "execution_count": null,
      "id": "1e0c4d4f",
      "metadata": {
        "colab": {
          "base_uri": "https://localhost:8080/"
        },
        "id": "1e0c4d4f",
        "outputId": "ae10e5a8-b548-4d03-c89f-c62157c2ee74"
      },
      "outputs": [
        {
          "output_type": "execute_result",
          "data": {
            "text/plain": [
              "(256, 256, 3)"
            ]
          },
          "metadata": {},
          "execution_count": 40
        }
      ],
      "source": [
        "stroke_array_final_new[80].shape"
      ]
    },
    {
      "cell_type": "code",
      "execution_count": null,
      "id": "cf6c0d33",
      "metadata": {
        "id": "cf6c0d33"
      },
      "outputs": [],
      "source": [
        "stroke_array=stroke_array_final_new"
      ]
    },
    {
      "cell_type": "code",
      "execution_count": null,
      "id": "a45d816f",
      "metadata": {
        "colab": {
          "base_uri": "https://localhost:8080/"
        },
        "id": "a45d816f",
        "outputId": "5265d385-945f-4961-d483-0305b133274c"
      },
      "outputs": [
        {
          "output_type": "stream",
          "name": "stdout",
          "text": [
            "507\n",
            "1000\n"
          ]
        }
      ],
      "source": [
        "print(len(stroke_array))\n",
        "print(len(normal_array))"
      ]
    },
    {
      "cell_type": "code",
      "execution_count": null,
      "id": "5d8d67ba",
      "metadata": {
        "colab": {
          "base_uri": "https://localhost:8080/"
        },
        "id": "5d8d67ba",
        "outputId": "0abd30a3-b7b2-4167-c07e-6a00e6477207"
      },
      "outputs": [
        {
          "output_type": "stream",
          "name": "stdout",
          "text": [
            "64\n"
          ]
        }
      ],
      "source": [
        "#This let us know how many did not have 3\n",
        "ind1=[]\n",
        "for i in range(len(stroke_array)):\n",
        "    if (stroke_array[i].shape[2])!=3:\n",
        "        ind1.append(i)\n",
        "print(len(ind1))"
      ]
    },
    {
      "cell_type": "code",
      "execution_count": null,
      "id": "35f818cc",
      "metadata": {
        "colab": {
          "base_uri": "https://localhost:8080/"
        },
        "id": "35f818cc",
        "outputId": "6f655747-99bf-4224-a5ee-65ad97afb7f7"
      },
      "outputs": [
        {
          "output_type": "stream",
          "name": "stdout",
          "text": [
            "64\n"
          ]
        }
      ],
      "source": [
        "print(len(ind1))"
      ]
    },
    {
      "cell_type": "code",
      "execution_count": null,
      "id": "70cae01c",
      "metadata": {
        "colab": {
          "base_uri": "https://localhost:8080/"
        },
        "id": "70cae01c",
        "outputId": "fd0f5e45-9ad1-4f85-a939-2dc92a42b1c1"
      },
      "outputs": [
        {
          "output_type": "execute_result",
          "data": {
            "text/plain": [
              "(256, 256, 4)"
            ]
          },
          "metadata": {},
          "execution_count": 45
        }
      ],
      "source": [
        "stroke_array[ind1[0]].shape"
      ]
    },
    {
      "cell_type": "code",
      "execution_count": null,
      "id": "6727775b",
      "metadata": {
        "colab": {
          "base_uri": "https://localhost:8080/"
        },
        "id": "6727775b",
        "outputId": "ca23bcc8-f429-489a-ddb4-7b602e8a3998"
      },
      "outputs": [
        {
          "output_type": "execute_result",
          "data": {
            "text/plain": [
              "(256, 256, 4)"
            ]
          },
          "metadata": {},
          "execution_count": 46
        }
      ],
      "source": [
        "stroke_array[ind1[0]].shape"
      ]
    },
    {
      "cell_type": "code",
      "execution_count": null,
      "id": "a7d8f1b9",
      "metadata": {
        "id": "a7d8f1b9"
      },
      "outputs": [],
      "source": [
        "#This was to get rid of the ones that did not have 3\n",
        "#4 isb&w but 3 is colored\n",
        "for index in sorted(ind1,reverse=True):\n",
        "    del stroke_array[index]"
      ]
    },
    {
      "cell_type": "code",
      "execution_count": null,
      "id": "f7430468",
      "metadata": {
        "id": "f7430468",
        "outputId": "43e9fb61-545f-4571-b42f-a21c2f1aeb4c",
        "colab": {
          "base_uri": "https://localhost:8080/"
        }
      },
      "outputs": [
        {
          "output_type": "stream",
          "name": "stdout",
          "text": [
            "0\n"
          ]
        }
      ],
      "source": [
        "ind1=[]\n",
        "for i in range(len(normal_array)):\n",
        "    if (normal_array[i].shape[2])!=3:\n",
        "        ind1.append(i)\n",
        "print(len(ind1))"
      ]
    },
    {
      "cell_type": "code",
      "execution_count": null,
      "id": "afb5f2fa",
      "metadata": {
        "id": "afb5f2fa"
      },
      "outputs": [],
      "source": [
        "#Converted them into array again\n",
        "stroke_array=np.array(stroke_array)\n",
        "normal_array=np.array(normal_array)"
      ]
    },
    {
      "cell_type": "code",
      "source": [
        "492 - 49"
      ],
      "metadata": {
        "colab": {
          "base_uri": "https://localhost:8080/"
        },
        "id": "wLeJ9xkqr-NV",
        "outputId": "f58f64ec-fa84-4a15-f3d8-377344111f5c"
      },
      "id": "wLeJ9xkqr-NV",
      "execution_count": null,
      "outputs": [
        {
          "output_type": "execute_result",
          "data": {
            "text/plain": [
              "443"
            ]
          },
          "metadata": {},
          "execution_count": 50
        }
      ]
    },
    {
      "cell_type": "code",
      "execution_count": null,
      "id": "6132bdc5",
      "metadata": {
        "colab": {
          "base_uri": "https://localhost:8080/"
        },
        "id": "6132bdc5",
        "outputId": "89c13e89-94a9-4392-99a3-c4985232568d"
      },
      "outputs": [
        {
          "output_type": "stream",
          "name": "stdout",
          "text": [
            "(443, 256, 256, 3)\n"
          ]
        }
      ],
      "source": [
        "print(stroke_array.shape)"
      ]
    },
    {
      "cell_type": "code",
      "execution_count": null,
      "id": "d03620cf",
      "metadata": {
        "colab": {
          "base_uri": "https://localhost:8080/"
        },
        "id": "d03620cf",
        "outputId": "f4017274-a3b2-403e-9f2a-fe2af1ebcd13"
      },
      "outputs": [
        {
          "output_type": "stream",
          "name": "stdout",
          "text": [
            "(1000, 256, 256, 3)\n"
          ]
        }
      ],
      "source": [
        "print(normal_array.shape)"
      ]
    },
    {
      "cell_type": "code",
      "execution_count": null,
      "id": "279d6b9a",
      "metadata": {
        "colab": {
          "base_uri": "https://localhost:8080/"
        },
        "id": "279d6b9a",
        "outputId": "ce87b0e6-d03d-4307-e1cd-c4d94b9f1461"
      },
      "outputs": [
        {
          "output_type": "stream",
          "name": "stdout",
          "text": [
            "(1000, 2)\n",
            "(443, 2)\n"
          ]
        }
      ],
      "source": [
        "#This was to create a label for them\n",
        "#[1,0] for normal\n",
        "#[0,1] for stroke\n",
        "#One hot vector label\n",
        "label_normal=[]\n",
        "label_stroke=[]\n",
        "for i in range(1000):\n",
        "    label_normal.append([1,0])\n",
        "label_normal=np.array(label_normal)\n",
        "print(label_normal.shape)\n",
        "for i in range(443):\n",
        "    label_stroke.append([0,1])\n",
        "label_stroke=np.array(label_stroke)\n",
        "print(label_stroke.shape)"
      ]
    },
    {
      "cell_type": "code",
      "execution_count": null,
      "id": "8f1f67fe",
      "metadata": {
        "id": "8f1f67fe"
      },
      "outputs": [],
      "source": [
        "image_array=np.concatenate((stroke_array,normal_array))\n",
        "label_array=np.concatenate((label_stroke,label_normal))"
      ]
    },
    {
      "cell_type": "code",
      "execution_count": null,
      "id": "8679b73c",
      "metadata": {
        "colab": {
          "base_uri": "https://localhost:8080/"
        },
        "id": "8679b73c",
        "outputId": "691710e8-5c76-4b42-a312-1c1f2e9b35ff"
      },
      "outputs": [
        {
          "output_type": "stream",
          "name": "stdout",
          "text": [
            "(1443, 256, 256, 3)\n",
            "(1443, 2)\n"
          ]
        }
      ],
      "source": [
        "#This is the features/input or image features\n",
        "print(image_array.shape)\n",
        "#This is the label\n",
        "print(label_array.shape)"
      ]
    },
    {
      "cell_type": "code",
      "execution_count": null,
      "id": "37597e55",
      "metadata": {
        "id": "37597e55"
      },
      "outputs": [],
      "source": [
        "#splitting them into training and testing data\n",
        "#20% us test set since it's 0.2\n",
        "#the remaining is training\n",
        "image_train,image_test,label_train,label_test=train_test_split(image_array,label_array, test_size=0.2 ,random_state = 12)\n",
        "\n"
      ]
    },
    {
      "cell_type": "code",
      "execution_count": null,
      "id": "f38d81f0",
      "metadata": {
        "id": "f38d81f0"
      },
      "outputs": [],
      "source": [
        "#Converting the labels into the right format for the model to take it\n",
        "from matplotlib import pyplot as plt\n",
        "from sklearn.utils import class_weight\n",
        "from sklearn.metrics import precision_recall_fscore_support,det_curve,recall_score,precision_score,f1_score,accuracy_score\n"
      ]
    },
    {
      "cell_type": "code",
      "execution_count": null,
      "id": "6d3ce150",
      "metadata": {
        "id": "6d3ce150"
      },
      "outputs": [],
      "source": [
        "#Here we compute the class weights, because we had 1000 normal images and 500 stroke\n",
        "#Since we had more normal than stroke, we commit classes, a mathmatical way to make sure the model learns perfectly\n",
        "#We did this, so that the model is not bias, we added weights\n",
        "label_train_final=[]\n",
        "label_test_final=[]\n",
        "for i in range(len(label_train)):\n",
        "    if label_train[i][0]==1:\n",
        "        label_train_final.append(1)\n",
        "    else:\n",
        "        label_train_final.append(0)\n",
        "label_train_final=np.array(label_train_final)\n",
        "l=label_train_final\n",
        "labels=l\n",
        "label_train_final=np.reshape(label_train_final,(label_train_final.shape[0],1))\n",
        "class_weights=class_weight.compute_class_weight(class_weight='balanced',classes=np.unique(l),y=l)\n",
        "class_weights=dict(zip(np.unique(l),class_weights))\n",
        "for i in range(len(label_test)):\n",
        "    if label_test[i][0]==1:\n",
        "        label_test_final.append(1)\n",
        "    else:\n",
        "        label_test_final.append(0)\n",
        "label_test_final=np.array(label_test_final)\n",
        "label_test_final=np.reshape(label_test_final,(label_test_final.shape[0],1))"
      ]
    },
    {
      "cell_type": "code",
      "execution_count": null,
      "id": "7815dff7",
      "metadata": {
        "colab": {
          "base_uri": "https://localhost:8080/"
        },
        "id": "7815dff7",
        "outputId": "8c0a3a30-1570-41a1-93b6-549850d5b348"
      },
      "outputs": [
        {
          "output_type": "stream",
          "name": "stdout",
          "text": [
            "Model: \"model\"\n",
            "_________________________________________________________________\n",
            " Layer (type)                Output Shape              Param #   \n",
            "=================================================================\n",
            " input_1 (InputLayer)        [(None, None, None, 3)]   0         \n",
            "                                                                 \n",
            " conv2d (Conv2D)             (None, None, None, 20)    54020     \n",
            "                                                                 \n",
            " max_pooling2d (MaxPooling2D  (None, None, None, 20)   0         \n",
            " )                                                               \n",
            "                                                                 \n",
            " dropout (Dropout)           (None, None, None, 20)    0         \n",
            "                                                                 \n",
            " conv2d_1 (Conv2D)           (None, None, None, 20)    160020    \n",
            "                                                                 \n",
            " max_pooling2d_1 (MaxPooling  (None, None, None, 20)   0         \n",
            " 2D)                                                             \n",
            "                                                                 \n",
            " layer_normalization (LayerN  (None, None, None, 20)   40        \n",
            " ormalization)                                                   \n",
            "                                                                 \n",
            " global_average_pooling2d (G  (None, 20)               0         \n",
            " lobalAveragePooling2D)                                          \n",
            "                                                                 \n",
            " flatten (Flatten)           (None, 20)                0         \n",
            "                                                                 \n",
            " dense (Dense)               (None, 64)                1344      \n",
            "                                                                 \n",
            " dense_1 (Dense)             (None, 1)                 65        \n",
            "                                                                 \n",
            "=================================================================\n",
            "Total params: 215,489\n",
            "Trainable params: 215,489\n",
            "Non-trainable params: 0\n",
            "_________________________________________________________________\n",
            "None\n",
            "Epoch 1/10\n",
            "21/21 [==============================] - ETA: 0s - loss: 0.5290 - accuracy: 0.7871\n",
            "Epoch 1: val_accuracy improved from -inf to 0.93966, saving model to image_model1.hdf5\n",
            "21/21 [==============================] - 22s 334ms/step - loss: 0.5290 - accuracy: 0.7871 - val_loss: 0.4932 - val_accuracy: 0.9397\n",
            "Epoch 2/10\n",
            "21/21 [==============================] - ETA: 0s - loss: 0.3615 - accuracy: 0.9258\n",
            "Epoch 2: val_accuracy improved from 0.93966 to 0.99138, saving model to image_model1.hdf5\n",
            "21/21 [==============================] - 2s 103ms/step - loss: 0.3615 - accuracy: 0.9258 - val_loss: 0.2396 - val_accuracy: 0.9914\n",
            "Epoch 3/10\n",
            "21/21 [==============================] - ETA: 0s - loss: 0.2568 - accuracy: 0.9692\n",
            "Epoch 3: val_accuracy did not improve from 0.99138\n",
            "21/21 [==============================] - 2s 101ms/step - loss: 0.2568 - accuracy: 0.9692 - val_loss: 0.1315 - val_accuracy: 0.9914\n",
            "Epoch 4/10\n",
            "21/21 [==============================] - ETA: 0s - loss: 0.2032 - accuracy: 0.9653\n",
            "Epoch 4: val_accuracy did not improve from 0.99138\n",
            "21/21 [==============================] - 2s 101ms/step - loss: 0.2032 - accuracy: 0.9653 - val_loss: 0.0923 - val_accuracy: 0.9914\n",
            "Epoch 5/10\n",
            "21/21 [==============================] - ETA: 0s - loss: 0.1665 - accuracy: 0.9711\n",
            "Epoch 5: val_accuracy improved from 0.99138 to 1.00000, saving model to image_model1.hdf5\n",
            "21/21 [==============================] - 2s 103ms/step - loss: 0.1665 - accuracy: 0.9711 - val_loss: 0.0804 - val_accuracy: 1.0000\n",
            "Epoch 6/10\n",
            "21/21 [==============================] - ETA: 0s - loss: 0.1396 - accuracy: 0.9798\n",
            "Epoch 6: val_accuracy did not improve from 1.00000\n",
            "21/21 [==============================] - 2s 101ms/step - loss: 0.1396 - accuracy: 0.9798 - val_loss: 0.1349 - val_accuracy: 1.0000\n",
            "Epoch 7/10\n",
            "21/21 [==============================] - ETA: 0s - loss: 0.1154 - accuracy: 0.9836\n",
            "Epoch 7: val_accuracy did not improve from 1.00000\n",
            "21/21 [==============================] - 2s 101ms/step - loss: 0.1154 - accuracy: 0.9836 - val_loss: 0.0421 - val_accuracy: 0.9914\n",
            "Epoch 8/10\n",
            "21/21 [==============================] - ETA: 0s - loss: 0.1221 - accuracy: 0.9817\n",
            "Epoch 8: val_accuracy did not improve from 1.00000\n",
            "21/21 [==============================] - 2s 101ms/step - loss: 0.1221 - accuracy: 0.9817 - val_loss: 0.0406 - val_accuracy: 1.0000\n",
            "Epoch 9/10\n",
            "21/21 [==============================] - ETA: 0s - loss: 0.1247 - accuracy: 0.9807\n",
            "Epoch 9: val_accuracy did not improve from 1.00000\n",
            "21/21 [==============================] - 2s 101ms/step - loss: 0.1247 - accuracy: 0.9807 - val_loss: 0.0663 - val_accuracy: 1.0000\n",
            "Epoch 10/10\n",
            "21/21 [==============================] - ETA: 0s - loss: 0.1239 - accuracy: 0.9827\n",
            "Epoch 10: val_accuracy did not improve from 1.00000\n",
            "21/21 [==============================] - 2s 101ms/step - loss: 0.1239 - accuracy: 0.9827 - val_loss: 0.0958 - val_accuracy: 1.0000\n"
          ]
        }
      ],
      "source": [
        "#even though 80% was for test set, 10% was for validation\n",
        "#so we really have 70% for test set\n",
        "\n",
        "#Cov2D, convolution layers used to extract features from images\n",
        "#MaxPooling, is to resample, downsample data\n",
        "#Dropout, regalization technique\n",
        "#Summary: this is basically a model which can process images in computer vision\n",
        "\n",
        "#Loss function, is crossentropy\n",
        "  #Crossentropy is a mathmatical function to measure two probability distributions\n",
        "#Optimizer, backpropagation, is called adam\n",
        "  #Optimizers goal is to help you find the best set of weights and bias for training the network\n",
        "\n",
        "#Here we're also training for 10 epochs\n",
        "#Batches...\n",
        "#Validation is to find the best model , than you save the best model to the name(filepath)\n",
        "batch_size, x, y,z = None, None, None,3\n",
        "i = tf.keras.Input(batch_shape=(batch_size, x,y,z))\n",
        "o=tf.keras.layers.Conv2D(20, 30, activation='relu')(i)\n",
        "o=tf.keras.layers.MaxPooling2D(pool_size=(2, 2))(o)\n",
        "o=tf.keras.layers.Dropout(0.25)(o)\n",
        "o=tf.keras.layers.Conv2D(20, 20, activation='relu')(o)\n",
        "o=tf.keras.layers.MaxPooling2D(pool_size=(2, 2))(o)\n",
        "o=tf.keras.layers.LayerNormalization()(o)\n",
        "o=tf.keras.layers.GlobalAveragePooling2D()(o)\n",
        "o=tf.keras.layers.Flatten()(o)\n",
        "o=tf.keras.layers.Dense(units=64, activation='tanh')(o)\n",
        "o=tf.keras.layers.Dense(units=1, activation='sigmoid')(o)\n",
        "m = tf.keras.Model(inputs=[i], outputs=[o])\n",
        "m.compile(optimizer='adam', loss='binary_crossentropy',metrics='accuracy')\n",
        "filepath=\"image_model1.hdf5\"\n",
        "checkpoint = tf.keras.callbacks.ModelCheckpoint(filepath, monitor='val_accuracy', verbose=1, save_best_only=True, mode='max')\n",
        "callbacks_list = [checkpoint] \n",
        "print(m.summary())\n",
        "History = m.fit(image_train, label_train_final, epochs=10, callbacks=callbacks_list, validation_split=.1,batch_size=50,class_weight=class_weights)\n"
      ]
    },
    {
      "cell_type": "code",
      "execution_count": null,
      "id": "6cd7b600",
      "metadata": {
        "colab": {
          "base_uri": "https://localhost:8080/",
          "height": 295
        },
        "id": "6cd7b600",
        "outputId": "3cd55db9-0ec0-4b04-d440-aed13c4edb22"
      },
      "outputs": [
        {
          "output_type": "display_data",
          "data": {
            "text/plain": [
              "<Figure size 432x288 with 1 Axes>"
            ],
            "image/png": "[encoded data removed]"
          },
          "metadata": {
            "needs_background": "light"
          }
        }
      ],
      "source": [
        "#Our training accuracy and validation accuracy with the function of epoch\n",
        "plt.plot(History.history['accuracy'])\n",
        "plt.plot(History.history['val_accuracy'])\n",
        "plt.title('experiment 1')\n",
        "plt.ylabel('accuracy')\n",
        "plt.xlabel('epoch')\n",
        "plt.legend(['train','val'],loc='upper left')\n",
        "plt.show()"
      ]
    },
    {
      "cell_type": "code",
      "execution_count": null,
      "id": "20bbb239",
      "metadata": {
        "id": "20bbb239"
      },
      "outputs": [],
      "source": [
        "model=tf.keras.models.load_model('image_model1.hdf5')"
      ]
    },
    {
      "cell_type": "code",
      "execution_count": null,
      "id": "071849ae",
      "metadata": {
        "colab": {
          "base_uri": "https://localhost:8080/"
        },
        "id": "071849ae",
        "outputId": "f3ec5a6b-99a4-4d92-942a-f28bca7e2b4b"
      },
      "outputs": [
        {
          "output_type": "stream",
          "name": "stdout",
          "text": [
            "Model: \"model\"\n",
            "_________________________________________________________________\n",
            " Layer (type)                Output Shape              Param #   \n",
            "=================================================================\n",
            " input_1 (InputLayer)        [(None, None, None, 3)]   0         \n",
            "                                                                 \n",
            " conv2d (Conv2D)             (None, None, None, 20)    54020     \n",
            "                                                                 \n",
            " max_pooling2d (MaxPooling2D  (None, None, None, 20)   0         \n",
            " )                                                               \n",
            "                                                                 \n",
            " dropout (Dropout)           (None, None, None, 20)    0         \n",
            "                                                                 \n",
            " conv2d_1 (Conv2D)           (None, None, None, 20)    160020    \n",
            "                                                                 \n",
            " max_pooling2d_1 (MaxPooling  (None, None, None, 20)   0         \n",
            " 2D)                                                             \n",
            "                                                                 \n",
            " layer_normalization (LayerN  (None, None, None, 20)   40        \n",
            " ormalization)                                                   \n",
            "                                                                 \n",
            " global_average_pooling2d (G  (None, 20)               0         \n",
            " lobalAveragePooling2D)                                          \n",
            "                                                                 \n",
            " flatten (Flatten)           (None, 20)                0         \n",
            "                                                                 \n",
            " dense (Dense)               (None, 64)                1344      \n",
            "                                                                 \n",
            " dense_1 (Dense)             (None, 1)                 65        \n",
            "                                                                 \n",
            "=================================================================\n",
            "Total params: 215,489\n",
            "Trainable params: 215,489\n",
            "Non-trainable params: 0\n",
            "_________________________________________________________________\n"
          ]
        }
      ],
      "source": [
        "#Loading our best model\n",
        "model.summary()"
      ]
    },
    {
      "cell_type": "code",
      "execution_count": null,
      "id": "eabb86fb",
      "metadata": {
        "colab": {
          "base_uri": "https://localhost:8080/"
        },
        "id": "eabb86fb",
        "outputId": "db398dc8-e70a-453a-91db-0536c1bd8d75"
      },
      "outputs": [
        {
          "output_type": "stream",
          "name": "stdout",
          "text": [
            "10/10 [==============================] - 1s 24ms/step\n"
          ]
        }
      ],
      "source": [
        "#After we load our best model, we predict our test set\n",
        "pred=model.predict(image_test)"
      ]
    },
    {
      "cell_type": "code",
      "execution_count": null,
      "id": "cbcac9c5",
      "metadata": {
        "colab": {
          "base_uri": "https://localhost:8080/"
        },
        "id": "cbcac9c5",
        "outputId": "a0ef9aa5-0b2c-486e-c3ce-e717ddaabc4f"
      },
      "outputs": [
        {
          "output_type": "stream",
          "name": "stdout",
          "text": [
            "289\n"
          ]
        }
      ],
      "source": [
        "print(len(pred))"
      ]
    },
    {
      "cell_type": "code",
      "execution_count": null,
      "id": "cd9dc5f5",
      "metadata": {
        "id": "cd9dc5f5",
        "outputId": "3ffd82ab-92f8-4e71-9d9e-ef1964887f3f",
        "colab": {
          "base_uri": "https://localhost:8080/"
        }
      },
      "outputs": [
        {
          "output_type": "execute_result",
          "data": {
            "text/plain": [
              "0.8224018216133118"
            ]
          },
          "metadata": {},
          "execution_count": 253
        }
      ],
      "source": [
        "pred[0].item()"
      ]
    },
    {
      "cell_type": "code",
      "execution_count": null,
      "id": "c364a713",
      "metadata": {
        "id": "c364a713",
        "outputId": "0725a919-9005-4bb5-cae5-0782928506e5",
        "colab": {
          "base_uri": "https://localhost:8080/"
        }
      },
      "outputs": [
        {
          "output_type": "stream",
          "name": "stdout",
          "text": [
            "289\n"
          ]
        }
      ],
      "source": [
        "print(len(label_test_final))"
      ]
    },
    {
      "cell_type": "code",
      "execution_count": null,
      "id": "360e1a7b",
      "metadata": {
        "id": "360e1a7b",
        "outputId": "d6e19783-f750-4d87-e3b4-63497d051a66",
        "colab": {
          "base_uri": "https://localhost:8080/"
        }
      },
      "outputs": [
        {
          "output_type": "execute_result",
          "data": {
            "text/plain": [
              "1"
            ]
          },
          "metadata": {},
          "execution_count": 255
        }
      ],
      "source": [
        "label_test_final[0].item()"
      ]
    },
    {
      "cell_type": "code",
      "execution_count": null,
      "id": "d488d217",
      "metadata": {
        "id": "d488d217"
      },
      "outputs": [],
      "source": [
        "#Then you compare your test prediction with the ground truth\n",
        "c=0\n",
        "for i in range(len(pred)):\n",
        "    if pred[i].item()>=0.5:\n",
        "        l=1\n",
        "    else:\n",
        "        l=0\n",
        "    if label_test_final[i].item()==l:\n",
        "        c=c+1"
      ]
    },
    {
      "cell_type": "code",
      "execution_count": null,
      "id": "3924c187",
      "metadata": {
        "id": "3924c187"
      },
      "outputs": [],
      "source": [
        "#Then calculate the accuracy\n",
        "acc=(c/len(label_test_final))*100"
      ]
    },
    {
      "cell_type": "code",
      "execution_count": null,
      "id": "d17f5c33",
      "metadata": {
        "colab": {
          "base_uri": "https://localhost:8080/"
        },
        "id": "d17f5c33",
        "outputId": "ca6a83c0-7b54-4de2-82cc-0b62704c38f0"
      },
      "outputs": [
        {
          "output_type": "stream",
          "name": "stdout",
          "text": [
            "96.53979238754326\n"
          ]
        }
      ],
      "source": [
        "print(acc)"
      ]
    }
  ],
  "metadata": {
    "kernelspec": {
      "display_name": "Python 3",
      "language": "python",
      "name": "python3"
    },
    "language_info": {
      "codemirror_mode": {
        "name": "ipython",
        "version": 3
      },
      "file_extension": ".py",
      "mimetype": "text/x-python",
      "name": "python",
      "nbconvert_exporter": "python",
      "pygments_lexer": "ipython3",
      "version": "3.8.8"
    },
    "colab": {
      "provenance": [],
      "machine_shape": "hm",
      "include_colab_link": true
    },
    "accelerator": "GPU",
    "gpuClass": "standard"
  },
  "nbformat": 4,
  "nbformat_minor": 5
}